{
  "nbformat": 4,
  "nbformat_minor": 0,
  "metadata": {
    "colab": {
      "name": "Co-authorship Social network analysis",
      "provenance": [],
      "collapsed_sections": [],
      "toc_visible": true,
      "authorship_tag": "ABX9TyMvExcEc5mWePfp+FJPsubH",
      "include_colab_link": true
    },
    "kernelspec": {
      "name": "python3",
      "display_name": "Python 3"
    }
  },
  "cells": [
    {
      "cell_type": "markdown",
      "metadata": {
        "id": "view-in-github",
        "colab_type": "text"
      },
      "source": [
        "<a href=\"https://colab.research.google.com/github/mjaafar97/Physics_publicartion_network_analysis/blob/main/Co_authorship_Social_network_analysis.ipynb\" target=\"_parent\"><img src=\"https://colab.research.google.com/assets/colab-badge.svg\" alt=\"Open In Colab\"/></a>"
      ]
    },
    {
      "cell_type": "markdown",
      "metadata": {
        "id": "UuK6e05G0V4S"
      },
      "source": [
        "# Analysing the Co-authorship social Network\n",
        "\n",
        "The purpose of this project is to analyze the physics co-authorship social network by comparing it to two variations of the same network: a randomly rewired social network (Where the connections between nodes are randomly selected) and an [Erdos Renyi](https://en.wikipedia.org/wiki/Erd%C5%91s%E2%80%93R%C3%A9nyi_model)  network.\n",
        "\n"
      ]
    },
    {
      "cell_type": "code",
      "metadata": {
        "id": "aUf-xQIVna1u"
      },
      "source": [
        "import pandas as pd\n",
        "import numpy as np\n",
        "import random\n",
        "import networkx as nx\n",
        "import matplotlib.pyplot as plt \n",
        "from collections import Counter \n",
        "import collections\n",
        "from networkx.algorithms import community\n",
        "import networkx.algorithms.community as nx_comm\n",
        "import itertools\n",
        "\n",
        "import community as com"
      ],
      "execution_count": 1,
      "outputs": []
    },
    {
      "cell_type": "markdown",
      "metadata": {
        "id": "8GnB98350ks0"
      },
      "source": [
        "## Reading data"
      ]
    },
    {
      "cell_type": "code",
      "metadata": {
        "id": "lS-8y1iGsWxI"
      },
      "source": [
        "url = 'https://raw.githubusercontent.com/mjaafar97/Physics_publicartion_network_analysis/main/arxiv.txt'\n",
        "coauthorship_data = pd.read_csv(url, header = None, usecols= [0,1,2,3,4])"
      ],
      "execution_count": 2,
      "outputs": []
    },
    {
      "cell_type": "code",
      "metadata": {
        "id": "XxLv_8yFsSDA",
        "colab": {
          "base_uri": "https://localhost:8080/",
          "height": 204
        },
        "outputId": "fbdc4efa-aa51-48e8-b68a-3d45d72f3244"
      },
      "source": [
        "coauthorship_data.head()"
      ],
      "execution_count": 3,
      "outputs": [
        {
          "output_type": "execute_result",
          "data": {
            "text/html": [
              "<div>\n",
              "<style scoped>\n",
              "    .dataframe tbody tr th:only-of-type {\n",
              "        vertical-align: middle;\n",
              "    }\n",
              "\n",
              "    .dataframe tbody tr th {\n",
              "        vertical-align: top;\n",
              "    }\n",
              "\n",
              "    .dataframe thead th {\n",
              "        text-align: right;\n",
              "    }\n",
              "</style>\n",
              "<table border=\"1\" class=\"dataframe\">\n",
              "  <thead>\n",
              "    <tr style=\"text-align: right;\">\n",
              "      <th></th>\n",
              "      <th>0</th>\n",
              "      <th>1</th>\n",
              "      <th>2</th>\n",
              "      <th>3</th>\n",
              "      <th>4</th>\n",
              "    </tr>\n",
              "  </thead>\n",
              "  <tbody>\n",
              "    <tr>\n",
              "      <th>0</th>\n",
              "      <td>1992</td>\n",
              "      <td>B368</td>\n",
              "      <td>Nucl.Phys.</td>\n",
              "      <td>Horne &amp; Horowitz</td>\n",
              "      <td>Exact Black String Solutions in Three Dimens...</td>\n",
              "    </tr>\n",
              "    <tr>\n",
              "      <th>1</th>\n",
              "      <td>1992</td>\n",
              "      <td>B278</td>\n",
              "      <td>Phys. Lett.</td>\n",
              "      <td>Mikovic</td>\n",
              "      <td>Hamiltonian construction of W-gravity actions</td>\n",
              "    </tr>\n",
              "    <tr>\n",
              "      <th>2</th>\n",
              "      <td>1991</td>\n",
              "      <td>A6</td>\n",
              "      <td>Mod. Phys. Lett.</td>\n",
              "      <td>Huitu &amp; Nemeschansky</td>\n",
              "      <td>Supersymmetric Gelfand-Dickey Algebra</td>\n",
              "    </tr>\n",
              "    <tr>\n",
              "      <th>3</th>\n",
              "      <td>1992</td>\n",
              "      <td>B373</td>\n",
              "      <td>Nucl.Phys.</td>\n",
              "      <td>Witten</td>\n",
              "      <td>Ground Ring Of Two Dimensional String Theory</td>\n",
              "    </tr>\n",
              "    <tr>\n",
              "      <th>4</th>\n",
              "      <td>1991</td>\n",
              "      <td>A6</td>\n",
              "      <td>Mod.Phys.Lett.</td>\n",
              "      <td>Intriligator</td>\n",
              "      <td>Fusion Residues</td>\n",
              "    </tr>\n",
              "  </tbody>\n",
              "</table>\n",
              "</div>"
            ],
            "text/plain": [
              "      0  ...                                                  4\n",
              "0  1992  ...    Exact Black String Solutions in Three Dimens...\n",
              "1  1992  ...      Hamiltonian construction of W-gravity actions\n",
              "2  1991  ...              Supersymmetric Gelfand-Dickey Algebra\n",
              "3  1992  ...       Ground Ring Of Two Dimensional String Theory\n",
              "4  1991  ...                                    Fusion Residues\n",
              "\n",
              "[5 rows x 5 columns]"
            ]
          },
          "metadata": {
            "tags": []
          },
          "execution_count": 3
        }
      ]
    },
    {
      "cell_type": "markdown",
      "metadata": {
        "id": "3KKYvapeDRsg"
      },
      "source": [
        "## Data preprocessing \n",
        "**The data preprocessing steps include:**\n",
        "\n",
        "    1- Splitting the authors column using the & charachter \n",
        "    2- Forming a pairs dataset that represents the edges betwen auhtors\n",
        "    3- Removing single author paper by removing pairs with \"Nan\" or \"None\" present\n",
        "    4- Converting names into lower case to unify the author names\n",
        "    5- Removing special charachters from names to unify the names\n",
        "    6- Removing self edges (Edges from a node to itself)\n",
        "    7- Removing the direction of the edges by sorting the pairs by vale \n",
        "    8- agreggating multiple edges (collaborations) to calculate the weight of the edge.\n",
        "    9- Removing names with empty strings\n"
      ]
    },
    {
      "cell_type": "code",
      "metadata": {
        "id": "EWWa0QbWte9V",
        "colab": {
          "base_uri": "https://localhost:8080/",
          "height": 204
        },
        "outputId": "02648d6e-96fe-4fe2-a177-c026dc04428a"
      },
      "source": [
        "processed_data = coauthorship_data[3].str.split('&', expand=True)\n",
        "processed_data = processed_data.fillna(value=np.nan)\n",
        "processed_data.head()"
      ],
      "execution_count": 4,
      "outputs": [
        {
          "output_type": "execute_result",
          "data": {
            "text/html": [
              "<div>\n",
              "<style scoped>\n",
              "    .dataframe tbody tr th:only-of-type {\n",
              "        vertical-align: middle;\n",
              "    }\n",
              "\n",
              "    .dataframe tbody tr th {\n",
              "        vertical-align: top;\n",
              "    }\n",
              "\n",
              "    .dataframe thead th {\n",
              "        text-align: right;\n",
              "    }\n",
              "</style>\n",
              "<table border=\"1\" class=\"dataframe\">\n",
              "  <thead>\n",
              "    <tr style=\"text-align: right;\">\n",
              "      <th></th>\n",
              "      <th>0</th>\n",
              "      <th>1</th>\n",
              "      <th>2</th>\n",
              "      <th>3</th>\n",
              "      <th>4</th>\n",
              "      <th>5</th>\n",
              "      <th>6</th>\n",
              "      <th>7</th>\n",
              "      <th>8</th>\n",
              "      <th>9</th>\n",
              "      <th>10</th>\n",
              "      <th>11</th>\n",
              "      <th>12</th>\n",
              "      <th>13</th>\n",
              "      <th>14</th>\n",
              "      <th>15</th>\n",
              "      <th>16</th>\n",
              "      <th>17</th>\n",
              "      <th>18</th>\n",
              "      <th>19</th>\n",
              "      <th>20</th>\n",
              "      <th>21</th>\n",
              "      <th>22</th>\n",
              "      <th>23</th>\n",
              "      <th>24</th>\n",
              "      <th>25</th>\n",
              "      <th>26</th>\n",
              "      <th>27</th>\n",
              "      <th>28</th>\n",
              "      <th>29</th>\n",
              "      <th>30</th>\n",
              "      <th>31</th>\n",
              "    </tr>\n",
              "  </thead>\n",
              "  <tbody>\n",
              "    <tr>\n",
              "      <th>0</th>\n",
              "      <td>Horne</td>\n",
              "      <td>Horowitz</td>\n",
              "      <td>NaN</td>\n",
              "      <td>NaN</td>\n",
              "      <td>NaN</td>\n",
              "      <td>NaN</td>\n",
              "      <td>NaN</td>\n",
              "      <td>NaN</td>\n",
              "      <td>NaN</td>\n",
              "      <td>NaN</td>\n",
              "      <td>NaN</td>\n",
              "      <td>NaN</td>\n",
              "      <td>NaN</td>\n",
              "      <td>NaN</td>\n",
              "      <td>NaN</td>\n",
              "      <td>NaN</td>\n",
              "      <td>NaN</td>\n",
              "      <td>NaN</td>\n",
              "      <td>NaN</td>\n",
              "      <td>NaN</td>\n",
              "      <td>NaN</td>\n",
              "      <td>NaN</td>\n",
              "      <td>NaN</td>\n",
              "      <td>NaN</td>\n",
              "      <td>NaN</td>\n",
              "      <td>NaN</td>\n",
              "      <td>NaN</td>\n",
              "      <td>NaN</td>\n",
              "      <td>NaN</td>\n",
              "      <td>NaN</td>\n",
              "      <td>NaN</td>\n",
              "      <td>NaN</td>\n",
              "    </tr>\n",
              "    <tr>\n",
              "      <th>1</th>\n",
              "      <td>Mikovic</td>\n",
              "      <td>NaN</td>\n",
              "      <td>NaN</td>\n",
              "      <td>NaN</td>\n",
              "      <td>NaN</td>\n",
              "      <td>NaN</td>\n",
              "      <td>NaN</td>\n",
              "      <td>NaN</td>\n",
              "      <td>NaN</td>\n",
              "      <td>NaN</td>\n",
              "      <td>NaN</td>\n",
              "      <td>NaN</td>\n",
              "      <td>NaN</td>\n",
              "      <td>NaN</td>\n",
              "      <td>NaN</td>\n",
              "      <td>NaN</td>\n",
              "      <td>NaN</td>\n",
              "      <td>NaN</td>\n",
              "      <td>NaN</td>\n",
              "      <td>NaN</td>\n",
              "      <td>NaN</td>\n",
              "      <td>NaN</td>\n",
              "      <td>NaN</td>\n",
              "      <td>NaN</td>\n",
              "      <td>NaN</td>\n",
              "      <td>NaN</td>\n",
              "      <td>NaN</td>\n",
              "      <td>NaN</td>\n",
              "      <td>NaN</td>\n",
              "      <td>NaN</td>\n",
              "      <td>NaN</td>\n",
              "      <td>NaN</td>\n",
              "    </tr>\n",
              "    <tr>\n",
              "      <th>2</th>\n",
              "      <td>Huitu</td>\n",
              "      <td>Nemeschansky</td>\n",
              "      <td>NaN</td>\n",
              "      <td>NaN</td>\n",
              "      <td>NaN</td>\n",
              "      <td>NaN</td>\n",
              "      <td>NaN</td>\n",
              "      <td>NaN</td>\n",
              "      <td>NaN</td>\n",
              "      <td>NaN</td>\n",
              "      <td>NaN</td>\n",
              "      <td>NaN</td>\n",
              "      <td>NaN</td>\n",
              "      <td>NaN</td>\n",
              "      <td>NaN</td>\n",
              "      <td>NaN</td>\n",
              "      <td>NaN</td>\n",
              "      <td>NaN</td>\n",
              "      <td>NaN</td>\n",
              "      <td>NaN</td>\n",
              "      <td>NaN</td>\n",
              "      <td>NaN</td>\n",
              "      <td>NaN</td>\n",
              "      <td>NaN</td>\n",
              "      <td>NaN</td>\n",
              "      <td>NaN</td>\n",
              "      <td>NaN</td>\n",
              "      <td>NaN</td>\n",
              "      <td>NaN</td>\n",
              "      <td>NaN</td>\n",
              "      <td>NaN</td>\n",
              "      <td>NaN</td>\n",
              "    </tr>\n",
              "    <tr>\n",
              "      <th>3</th>\n",
              "      <td>Witten</td>\n",
              "      <td>NaN</td>\n",
              "      <td>NaN</td>\n",
              "      <td>NaN</td>\n",
              "      <td>NaN</td>\n",
              "      <td>NaN</td>\n",
              "      <td>NaN</td>\n",
              "      <td>NaN</td>\n",
              "      <td>NaN</td>\n",
              "      <td>NaN</td>\n",
              "      <td>NaN</td>\n",
              "      <td>NaN</td>\n",
              "      <td>NaN</td>\n",
              "      <td>NaN</td>\n",
              "      <td>NaN</td>\n",
              "      <td>NaN</td>\n",
              "      <td>NaN</td>\n",
              "      <td>NaN</td>\n",
              "      <td>NaN</td>\n",
              "      <td>NaN</td>\n",
              "      <td>NaN</td>\n",
              "      <td>NaN</td>\n",
              "      <td>NaN</td>\n",
              "      <td>NaN</td>\n",
              "      <td>NaN</td>\n",
              "      <td>NaN</td>\n",
              "      <td>NaN</td>\n",
              "      <td>NaN</td>\n",
              "      <td>NaN</td>\n",
              "      <td>NaN</td>\n",
              "      <td>NaN</td>\n",
              "      <td>NaN</td>\n",
              "    </tr>\n",
              "    <tr>\n",
              "      <th>4</th>\n",
              "      <td>Intriligator</td>\n",
              "      <td>NaN</td>\n",
              "      <td>NaN</td>\n",
              "      <td>NaN</td>\n",
              "      <td>NaN</td>\n",
              "      <td>NaN</td>\n",
              "      <td>NaN</td>\n",
              "      <td>NaN</td>\n",
              "      <td>NaN</td>\n",
              "      <td>NaN</td>\n",
              "      <td>NaN</td>\n",
              "      <td>NaN</td>\n",
              "      <td>NaN</td>\n",
              "      <td>NaN</td>\n",
              "      <td>NaN</td>\n",
              "      <td>NaN</td>\n",
              "      <td>NaN</td>\n",
              "      <td>NaN</td>\n",
              "      <td>NaN</td>\n",
              "      <td>NaN</td>\n",
              "      <td>NaN</td>\n",
              "      <td>NaN</td>\n",
              "      <td>NaN</td>\n",
              "      <td>NaN</td>\n",
              "      <td>NaN</td>\n",
              "      <td>NaN</td>\n",
              "      <td>NaN</td>\n",
              "      <td>NaN</td>\n",
              "      <td>NaN</td>\n",
              "      <td>NaN</td>\n",
              "      <td>NaN</td>\n",
              "      <td>NaN</td>\n",
              "    </tr>\n",
              "  </tbody>\n",
              "</table>\n",
              "</div>"
            ],
            "text/plain": [
              "              0              1    2    3    4   ...   27   28   29   30   31\n",
              "0         Horne        Horowitz  NaN  NaN  NaN  ...  NaN  NaN  NaN  NaN  NaN\n",
              "1        Mikovic            NaN  NaN  NaN  NaN  ...  NaN  NaN  NaN  NaN  NaN\n",
              "2         Huitu    Nemeschansky  NaN  NaN  NaN  ...  NaN  NaN  NaN  NaN  NaN\n",
              "3         Witten            NaN  NaN  NaN  NaN  ...  NaN  NaN  NaN  NaN  NaN\n",
              "4   Intriligator            NaN  NaN  NaN  NaN  ...  NaN  NaN  NaN  NaN  NaN\n",
              "\n",
              "[5 rows x 32 columns]"
            ]
          },
          "metadata": {
            "tags": []
          },
          "execution_count": 4
        }
      ]
    },
    {
      "cell_type": "code",
      "metadata": {
        "id": "l4pzr0b_zXX7"
      },
      "source": [
        "pairs=pd.DataFrame(processed_data.apply(lambda x : list(zip(x.dropna()[:-1],x.dropna()[1:])),\n",
        "                               axis=1).explode().tolist())\n",
        "pairs = pairs.fillna(value=np.nan)\n",
        "pairs = pairs.dropna(axis=0)\n",
        "pairs = pairs.apply(lambda x : x.str.lower())\n",
        "pairs = pairs.apply(lambda x : x.str.replace('[^a-zA-Z]', ''))\n",
        "pairs = pairs.dropna(axis=0)\n",
        "pairs = pairs[pairs[0] != pairs[1]]\n",
        "pairs = pairs[pairs[0]!='']\n",
        "pairs = pairs[pairs[1]!='']\n",
        "pairs.columns= [\"Author_1\" , \"Author_2\"]"
      ],
      "execution_count": 5,
      "outputs": []
    },
    {
      "cell_type": "code",
      "metadata": {
        "id": "1TA-s09vz7mv",
        "colab": {
          "base_uri": "https://localhost:8080/",
          "height": 204
        },
        "outputId": "37a38ecf-5cac-449a-c275-3762d051a056"
      },
      "source": [
        "pairs.head()"
      ],
      "execution_count": 6,
      "outputs": [
        {
          "output_type": "execute_result",
          "data": {
            "text/html": [
              "<div>\n",
              "<style scoped>\n",
              "    .dataframe tbody tr th:only-of-type {\n",
              "        vertical-align: middle;\n",
              "    }\n",
              "\n",
              "    .dataframe tbody tr th {\n",
              "        vertical-align: top;\n",
              "    }\n",
              "\n",
              "    .dataframe thead th {\n",
              "        text-align: right;\n",
              "    }\n",
              "</style>\n",
              "<table border=\"1\" class=\"dataframe\">\n",
              "  <thead>\n",
              "    <tr style=\"text-align: right;\">\n",
              "      <th></th>\n",
              "      <th>Author_1</th>\n",
              "      <th>Author_2</th>\n",
              "    </tr>\n",
              "  </thead>\n",
              "  <tbody>\n",
              "    <tr>\n",
              "      <th>0</th>\n",
              "      <td>horne</td>\n",
              "      <td>horowitz</td>\n",
              "    </tr>\n",
              "    <tr>\n",
              "      <th>2</th>\n",
              "      <td>huitu</td>\n",
              "      <td>nemeschansky</td>\n",
              "    </tr>\n",
              "    <tr>\n",
              "      <th>5</th>\n",
              "      <td>ooguri</td>\n",
              "      <td>sasakura</td>\n",
              "    </tr>\n",
              "    <tr>\n",
              "      <th>6</th>\n",
              "      <td>leclair</td>\n",
              "      <td>smirnov</td>\n",
              "    </tr>\n",
              "    <tr>\n",
              "      <th>9</th>\n",
              "      <td>lerche</td>\n",
              "      <td>smit</td>\n",
              "    </tr>\n",
              "  </tbody>\n",
              "</table>\n",
              "</div>"
            ],
            "text/plain": [
              "  Author_1      Author_2\n",
              "0    horne      horowitz\n",
              "2    huitu  nemeschansky\n",
              "5   ooguri      sasakura\n",
              "6  leclair       smirnov\n",
              "9   lerche          smit"
            ]
          },
          "metadata": {
            "tags": []
          },
          "execution_count": 6
        }
      ]
    },
    {
      "cell_type": "markdown",
      "metadata": {
        "id": "MuSFNPiKSxlz"
      },
      "source": [
        "## The Original Co-Authorship Dataframe"
      ]
    },
    {
      "cell_type": "code",
      "metadata": {
        "id": "QTL4oPcQmG3Z",
        "colab": {
          "base_uri": "https://localhost:8080/",
          "height": 204
        },
        "outputId": "cb50bf27-67ea-457d-e5ce-9c9236176e6f"
      },
      "source": [
        "Sorted_pairs=pairs[pairs.iloc[-1,:].sort_values().index]\n",
        "Sorted_pairs.head()"
      ],
      "execution_count": 7,
      "outputs": [
        {
          "output_type": "execute_result",
          "data": {
            "text/html": [
              "<div>\n",
              "<style scoped>\n",
              "    .dataframe tbody tr th:only-of-type {\n",
              "        vertical-align: middle;\n",
              "    }\n",
              "\n",
              "    .dataframe tbody tr th {\n",
              "        vertical-align: top;\n",
              "    }\n",
              "\n",
              "    .dataframe thead th {\n",
              "        text-align: right;\n",
              "    }\n",
              "</style>\n",
              "<table border=\"1\" class=\"dataframe\">\n",
              "  <thead>\n",
              "    <tr style=\"text-align: right;\">\n",
              "      <th></th>\n",
              "      <th>Author_2</th>\n",
              "      <th>Author_1</th>\n",
              "    </tr>\n",
              "  </thead>\n",
              "  <tbody>\n",
              "    <tr>\n",
              "      <th>0</th>\n",
              "      <td>horowitz</td>\n",
              "      <td>horne</td>\n",
              "    </tr>\n",
              "    <tr>\n",
              "      <th>2</th>\n",
              "      <td>nemeschansky</td>\n",
              "      <td>huitu</td>\n",
              "    </tr>\n",
              "    <tr>\n",
              "      <th>5</th>\n",
              "      <td>sasakura</td>\n",
              "      <td>ooguri</td>\n",
              "    </tr>\n",
              "    <tr>\n",
              "      <th>6</th>\n",
              "      <td>smirnov</td>\n",
              "      <td>leclair</td>\n",
              "    </tr>\n",
              "    <tr>\n",
              "      <th>9</th>\n",
              "      <td>smit</td>\n",
              "      <td>lerche</td>\n",
              "    </tr>\n",
              "  </tbody>\n",
              "</table>\n",
              "</div>"
            ],
            "text/plain": [
              "       Author_2 Author_1\n",
              "0      horowitz    horne\n",
              "2  nemeschansky    huitu\n",
              "5      sasakura   ooguri\n",
              "6       smirnov  leclair\n",
              "9          smit   lerche"
            ]
          },
          "metadata": {
            "tags": []
          },
          "execution_count": 7
        }
      ]
    },
    {
      "cell_type": "code",
      "metadata": {
        "id": "1IS3tlkpJrMP",
        "colab": {
          "base_uri": "https://localhost:8080/",
          "height": 204
        },
        "outputId": "1fe5a0cc-570d-437e-bc17-ed62ce8ee6d7"
      },
      "source": [
        "weighted_graph =pairs.groupby(Sorted_pairs.columns.tolist(),as_index=False).size()\n",
        "weighted_graph.head()"
      ],
      "execution_count": 8,
      "outputs": [
        {
          "output_type": "execute_result",
          "data": {
            "text/html": [
              "<div>\n",
              "<style scoped>\n",
              "    .dataframe tbody tr th:only-of-type {\n",
              "        vertical-align: middle;\n",
              "    }\n",
              "\n",
              "    .dataframe tbody tr th {\n",
              "        vertical-align: top;\n",
              "    }\n",
              "\n",
              "    .dataframe thead th {\n",
              "        text-align: right;\n",
              "    }\n",
              "</style>\n",
              "<table border=\"1\" class=\"dataframe\">\n",
              "  <thead>\n",
              "    <tr style=\"text-align: right;\">\n",
              "      <th></th>\n",
              "      <th>Author_2</th>\n",
              "      <th>Author_1</th>\n",
              "      <th>size</th>\n",
              "    </tr>\n",
              "  </thead>\n",
              "  <tbody>\n",
              "    <tr>\n",
              "      <th>0</th>\n",
              "      <td>a</td>\n",
              "      <td>ambjorn</td>\n",
              "      <td>1</td>\n",
              "    </tr>\n",
              "    <tr>\n",
              "      <th>1</th>\n",
              "      <td>a</td>\n",
              "      <td>basagoiti</td>\n",
              "      <td>1</td>\n",
              "    </tr>\n",
              "    <tr>\n",
              "      <th>2</th>\n",
              "      <td>a</td>\n",
              "      <td>n</td>\n",
              "      <td>1</td>\n",
              "    </tr>\n",
              "    <tr>\n",
              "      <th>3</th>\n",
              "      <td>a</td>\n",
              "      <td>p</td>\n",
              "      <td>1</td>\n",
              "    </tr>\n",
              "    <tr>\n",
              "      <th>4</th>\n",
              "      <td>aa</td>\n",
              "      <td>bertrand</td>\n",
              "      <td>1</td>\n",
              "    </tr>\n",
              "  </tbody>\n",
              "</table>\n",
              "</div>"
            ],
            "text/plain": [
              "  Author_2   Author_1  size\n",
              "0        a    ambjorn     1\n",
              "1        a  basagoiti     1\n",
              "2        a          n     1\n",
              "3        a          p     1\n",
              "4       aa   bertrand     1"
            ]
          },
          "metadata": {
            "tags": []
          },
          "execution_count": 8
        }
      ]
    },
    {
      "cell_type": "code",
      "metadata": {
        "id": "pjO7YanhJysV",
        "colab": {
          "base_uri": "https://localhost:8080/"
        },
        "outputId": "23b07459-8f10-4ef7-93d9-63fb1eb8d29a"
      },
      "source": [
        "weighted_graph.shape"
      ],
      "execution_count": 9,
      "outputs": [
        {
          "output_type": "execute_result",
          "data": {
            "text/plain": [
              "(9762, 3)"
            ]
          },
          "metadata": {
            "tags": []
          },
          "execution_count": 9
        }
      ]
    },
    {
      "cell_type": "markdown",
      "metadata": {
        "id": "qbEJJeuuD90m"
      },
      "source": [
        "## The Network properties "
      ]
    },
    {
      "cell_type": "code",
      "metadata": {
        "id": "2h94OIo8EFtx",
        "colab": {
          "base_uri": "https://localhost:8080/"
        },
        "outputId": "ba939254-26d1-4c64-84b2-67405faf50ae"
      },
      "source": [
        "print ('The total number of authors = ',len(set(pairs['Author_1']).union(set(pairs['Author_2']))))\n"
      ],
      "execution_count": 10,
      "outputs": [
        {
          "output_type": "stream",
          "text": [
            "The total number of authors =  5402\n"
          ],
          "name": "stdout"
        }
      ]
    },
    {
      "cell_type": "code",
      "metadata": {
        "id": "3p8sbmAl-qG1",
        "colab": {
          "base_uri": "https://localhost:8080/"
        },
        "outputId": "de7086ac-ac7c-41e9-b73f-2752f8c8ce1f"
      },
      "source": [
        "print ('The unique values in the first author = ',len(np.unique(pairs['Author_1'])))\n",
        "print ('The unique values in the second author = ',len(np.unique(pairs['Author_2'])))"
      ],
      "execution_count": 11,
      "outputs": [
        {
          "output_type": "stream",
          "text": [
            "The unique values in the first author =  4148\n",
            "The unique values in the second author =  4066\n"
          ],
          "name": "stdout"
        }
      ]
    },
    {
      "cell_type": "markdown",
      "metadata": {
        "id": "rIrPkyB_TAUI"
      },
      "source": [
        "## Building The Random Rewired Network"
      ]
    },
    {
      "cell_type": "markdown",
      "metadata": {
        "id": "7rxW_eehspC3"
      },
      "source": [
        "To generate the random rewired network the following was done:\n",
        "\n",
        "\n",
        "    1- Each edge was considered on its own without the weight.\n",
        "    2- The destination of the edge \"Author_2\" was changed by selecting a random author.\n",
        "    3- This process doesn't require discounting the edges that are already re-wired because each edge is considered only once. "
      ]
    },
    {
      "cell_type": "code",
      "metadata": {
        "id": "sRX_Qh6h-_by"
      },
      "source": [
        "Authors = set(pairs['Author_1']).union(set(pairs['Author_2']))"
      ],
      "execution_count": 12,
      "outputs": []
    },
    {
      "cell_type": "code",
      "metadata": {
        "id": "s2_fGmUW_AV5",
        "colab": {
          "base_uri": "https://localhost:8080/"
        },
        "outputId": "2678ae7e-ac15-479f-aefd-0cc57c502ee4"
      },
      "source": [
        "print (\"The number of authors is \" , len(Authors))"
      ],
      "execution_count": 13,
      "outputs": [
        {
          "output_type": "stream",
          "text": [
            "The number of authors is  5402\n"
          ],
          "name": "stdout"
        }
      ]
    },
    {
      "cell_type": "code",
      "metadata": {
        "id": "gMQVMIMCitaN"
      },
      "source": [
        "Authors = list (Authors)"
      ],
      "execution_count": 14,
      "outputs": []
    },
    {
      "cell_type": "code",
      "metadata": {
        "id": "TNLki0nMi_IC",
        "colab": {
          "base_uri": "https://localhost:8080/",
          "height": 204
        },
        "outputId": "f866114b-39ec-408f-bb9b-6bca02e5daec"
      },
      "source": [
        "rewired_network = pairs.copy()\n",
        "rewired_network['updated_author'] = random.choices(Authors,k=rewired_network.shape[0])\n",
        "rewired_network = rewired_network.drop(columns= 'Author_2', axis=1)\n",
        "rewired_network.columns=['Author_1', 'Author_2']\n",
        "rewired_network.head()"
      ],
      "execution_count": 15,
      "outputs": [
        {
          "output_type": "execute_result",
          "data": {
            "text/html": [
              "<div>\n",
              "<style scoped>\n",
              "    .dataframe tbody tr th:only-of-type {\n",
              "        vertical-align: middle;\n",
              "    }\n",
              "\n",
              "    .dataframe tbody tr th {\n",
              "        vertical-align: top;\n",
              "    }\n",
              "\n",
              "    .dataframe thead th {\n",
              "        text-align: right;\n",
              "    }\n",
              "</style>\n",
              "<table border=\"1\" class=\"dataframe\">\n",
              "  <thead>\n",
              "    <tr style=\"text-align: right;\">\n",
              "      <th></th>\n",
              "      <th>Author_1</th>\n",
              "      <th>Author_2</th>\n",
              "    </tr>\n",
              "  </thead>\n",
              "  <tbody>\n",
              "    <tr>\n",
              "      <th>0</th>\n",
              "      <td>horne</td>\n",
              "      <td>kubotani</td>\n",
              "    </tr>\n",
              "    <tr>\n",
              "      <th>2</th>\n",
              "      <td>huitu</td>\n",
              "      <td>menotti</td>\n",
              "    </tr>\n",
              "    <tr>\n",
              "      <th>5</th>\n",
              "      <td>ooguri</td>\n",
              "      <td>marchioro</td>\n",
              "    </tr>\n",
              "    <tr>\n",
              "      <th>6</th>\n",
              "      <td>leclair</td>\n",
              "      <td>balaska</td>\n",
              "    </tr>\n",
              "    <tr>\n",
              "      <th>9</th>\n",
              "      <td>lerche</td>\n",
              "      <td>follana</td>\n",
              "    </tr>\n",
              "  </tbody>\n",
              "</table>\n",
              "</div>"
            ],
            "text/plain": [
              "  Author_1   Author_2\n",
              "0    horne   kubotani\n",
              "2    huitu    menotti\n",
              "5   ooguri  marchioro\n",
              "6  leclair    balaska\n",
              "9   lerche    follana"
            ]
          },
          "metadata": {
            "tags": []
          },
          "execution_count": 15
        }
      ]
    },
    {
      "cell_type": "code",
      "metadata": {
        "id": "XbZS3T7dZoMB",
        "colab": {
          "base_uri": "https://localhost:8080/",
          "height": 204
        },
        "outputId": "e08e1595-257f-4f18-f338-c415344d0d46"
      },
      "source": [
        "Sorted_rewired_network=rewired_network[rewired_network.iloc[-1,:].sort_values().index]\n",
        "rewired_weighted_graph =pairs.groupby(Sorted_rewired_network.columns.tolist(),as_index=False).size()\n",
        "rewired_weighted_graph.head()"
      ],
      "execution_count": 16,
      "outputs": [
        {
          "output_type": "execute_result",
          "data": {
            "text/html": [
              "<div>\n",
              "<style scoped>\n",
              "    .dataframe tbody tr th:only-of-type {\n",
              "        vertical-align: middle;\n",
              "    }\n",
              "\n",
              "    .dataframe tbody tr th {\n",
              "        vertical-align: top;\n",
              "    }\n",
              "\n",
              "    .dataframe thead th {\n",
              "        text-align: right;\n",
              "    }\n",
              "</style>\n",
              "<table border=\"1\" class=\"dataframe\">\n",
              "  <thead>\n",
              "    <tr style=\"text-align: right;\">\n",
              "      <th></th>\n",
              "      <th>Author_2</th>\n",
              "      <th>Author_1</th>\n",
              "      <th>size</th>\n",
              "    </tr>\n",
              "  </thead>\n",
              "  <tbody>\n",
              "    <tr>\n",
              "      <th>0</th>\n",
              "      <td>a</td>\n",
              "      <td>ambjorn</td>\n",
              "      <td>1</td>\n",
              "    </tr>\n",
              "    <tr>\n",
              "      <th>1</th>\n",
              "      <td>a</td>\n",
              "      <td>basagoiti</td>\n",
              "      <td>1</td>\n",
              "    </tr>\n",
              "    <tr>\n",
              "      <th>2</th>\n",
              "      <td>a</td>\n",
              "      <td>n</td>\n",
              "      <td>1</td>\n",
              "    </tr>\n",
              "    <tr>\n",
              "      <th>3</th>\n",
              "      <td>a</td>\n",
              "      <td>p</td>\n",
              "      <td>1</td>\n",
              "    </tr>\n",
              "    <tr>\n",
              "      <th>4</th>\n",
              "      <td>aa</td>\n",
              "      <td>bertrand</td>\n",
              "      <td>1</td>\n",
              "    </tr>\n",
              "  </tbody>\n",
              "</table>\n",
              "</div>"
            ],
            "text/plain": [
              "  Author_2   Author_1  size\n",
              "0        a    ambjorn     1\n",
              "1        a  basagoiti     1\n",
              "2        a          n     1\n",
              "3        a          p     1\n",
              "4       aa   bertrand     1"
            ]
          },
          "metadata": {
            "tags": []
          },
          "execution_count": 16
        }
      ]
    },
    {
      "cell_type": "code",
      "metadata": {
        "id": "vD20k2zbbSyI"
      },
      "source": [
        "rewired_network = nx.from_pandas_edgelist(rewired_weighted_graph, 'Author_1', 'Author_2', [\"size\"])"
      ],
      "execution_count": 17,
      "outputs": []
    },
    {
      "cell_type": "markdown",
      "metadata": {
        "id": "WGBaHuEITRmx"
      },
      "source": [
        "## Building The Erdos Renyi Network"
      ]
    },
    {
      "cell_type": "code",
      "metadata": {
        "id": "BSFzgQRqcLJr"
      },
      "source": [
        "#ER_network = nx.from_pandas_edgelist(ER_weighted_graph, 'Author_1', 'Author_2', [\"size\"])\n",
        "ER_network= nx.erdos_renyi_graph(5402, 0.00065)"
      ],
      "execution_count": 18,
      "outputs": []
    },
    {
      "cell_type": "code",
      "metadata": {
        "id": "2MbPzUXpw2WG",
        "colab": {
          "base_uri": "https://localhost:8080/"
        },
        "outputId": "ea58f9a5-8adc-4808-ae27-30798b6f2e9a"
      },
      "source": [
        "ER_network.number_of_edges()"
      ],
      "execution_count": 19,
      "outputs": [
        {
          "output_type": "execute_result",
          "data": {
            "text/plain": [
              "9461"
            ]
          },
          "metadata": {
            "tags": []
          },
          "execution_count": 19
        }
      ]
    },
    {
      "cell_type": "code",
      "metadata": {
        "id": "Yd4IYZVExkSB",
        "colab": {
          "base_uri": "https://localhost:8080/"
        },
        "outputId": "87fc4834-1af5-4480-e43c-f71440886f00"
      },
      "source": [
        "ER_network.order()"
      ],
      "execution_count": 20,
      "outputs": [
        {
          "output_type": "execute_result",
          "data": {
            "text/plain": [
              "5402"
            ]
          },
          "metadata": {
            "tags": []
          },
          "execution_count": 20
        }
      ]
    },
    {
      "cell_type": "markdown",
      "metadata": {
        "id": "WrRKNpuwzxaz"
      },
      "source": [
        "## Building the orginal network"
      ]
    },
    {
      "cell_type": "code",
      "metadata": {
        "id": "Z1mSInO14l1_",
        "colab": {
          "base_uri": "https://localhost:8080/"
        },
        "outputId": "8bb46c20-a65f-4739-ada6-76a408a8fa85"
      },
      "source": [
        "original_network = nx.from_pandas_edgelist(weighted_graph, 'Author_1', 'Author_2', [\"size\"])\n",
        "print(\"The network size is \" ,original_network.size())\n",
        "print (\" The network order is \",original_network.order() )"
      ],
      "execution_count": 21,
      "outputs": [
        {
          "output_type": "stream",
          "text": [
            "The network size is  9563\n",
            " The network order is  5402\n"
          ],
          "name": "stdout"
        }
      ]
    },
    {
      "cell_type": "markdown",
      "metadata": {
        "id": "tz2hyzwbz810"
      },
      "source": [
        "## Plotting the three networks"
      ]
    },
    {
      "cell_type": "code",
      "metadata": {
        "id": "fn3mxOWQHp9u"
      },
      "source": [
        "def plot_network(network , color, title ):\n",
        "  pos = nx.spring_layout(network)\n",
        "  nx.draw_networkx_nodes(network, pos , node_size = 15,node_color=color)\n",
        "  nx.draw_networkx_edges(network, pos,  edge_color=color)\n",
        "  plt.title(title)\n",
        "  plt.show()"
      ],
      "execution_count": 22,
      "outputs": []
    },
    {
      "cell_type": "markdown",
      "metadata": {
        "id": "8Gxfn6Gk2-n5"
      },
      "source": [
        "### Original Network"
      ]
    },
    {
      "cell_type": "code",
      "metadata": {
        "id": "-gTjS5Kvokcv",
        "colab": {
          "base_uri": "https://localhost:8080/",
          "height": 264
        },
        "outputId": "f0185975-c80c-4956-da57-9fa41879552d"
      },
      "source": [
        "plot_network(original_network , 'c', 'Original Network')"
      ],
      "execution_count": 23,
      "outputs": [
        {
          "output_type": "display_data",
          "data": {
            "image/png": "[encoded data removed]",
            "text/plain": [
              "<Figure size 432x288 with 1 Axes>"
            ]
          },
          "metadata": {
            "tags": []
          }
        }
      ]
    },
    {
      "cell_type": "markdown",
      "metadata": {
        "id": "Duch6wwt23by"
      },
      "source": [
        "### Erdos Renyi Network"
      ]
    },
    {
      "cell_type": "code",
      "metadata": {
        "id": "8szb1V45okgi",
        "colab": {
          "base_uri": "https://localhost:8080/",
          "height": 264
        },
        "outputId": "0ab3ea43-f8f8-4205-c95f-7dc6d7bc8546"
      },
      "source": [
        "plot_network(ER_network , 'r', 'Erdos Renyi Network')"
      ],
      "execution_count": 24,
      "outputs": [
        {
          "output_type": "display_data",
          "data": {
            "image/png": "[encoded data removed]",
            "text/plain": [
              "<Figure size 432x288 with 1 Axes>"
            ]
          },
          "metadata": {
            "tags": []
          }
        }
      ]
    },
    {
      "cell_type": "markdown",
      "metadata": {
        "id": "up778vyM3DHP"
      },
      "source": [
        "### Random Network"
      ]
    },
    {
      "cell_type": "code",
      "metadata": {
        "id": "RmFtJAlookaC",
        "colab": {
          "base_uri": "https://localhost:8080/",
          "height": 264
        },
        "outputId": "0bf46a3b-1dbd-455d-900b-75c3754cc05c"
      },
      "source": [
        "plot_network(rewired_network ,  'k', 'Rewired Network')"
      ],
      "execution_count": 25,
      "outputs": [
        {
          "output_type": "display_data",
          "data": {
            "image/png": "[encoded data removed]",
            "text/plain": [
              "<Figure size 432x288 with 1 Axes>"
            ]
          },
          "metadata": {
            "tags": []
          }
        }
      ]
    },
    {
      "cell_type": "markdown",
      "metadata": {
        "id": "yegoWCfyZHur"
      },
      "source": [
        "## Degree distribution plot"
      ]
    },
    {
      "cell_type": "code",
      "metadata": {
        "id": "wRtLFYcyYkGe"
      },
      "source": [
        "def plot_degree_distribution(network , style, title):\n",
        "  degrees = network.degree()\n",
        "  degree_dict = dict(degrees)\n",
        "  degree_values = sorted(set(degree_dict.values()))\n",
        "  degrees_list = list(degree_dict.values())\n",
        "  degree_hist = [degrees_list.count(x) for x in degree_values]\n",
        "  plt.figure() \n",
        "  plt.grid(True)\n",
        "  plt.plot(degree_values, degree_hist, style)\n",
        "  plt.xlabel('Degree')\n",
        "  plt.ylabel('Number of nodes')\n",
        "  plt.title(title)\n",
        "\n"
      ],
      "execution_count": 26,
      "outputs": []
    },
    {
      "cell_type": "markdown",
      "metadata": {
        "id": "PRqnK6gg3GMZ"
      },
      "source": [
        "### Original Network "
      ]
    },
    {
      "cell_type": "code",
      "metadata": {
        "id": "LcP74uz3UHei",
        "colab": {
          "base_uri": "https://localhost:8080/",
          "height": 295
        },
        "outputId": "d7150c9c-299f-4e37-ce14-b509ac034c00"
      },
      "source": [
        "plot_degree_distribution(original_network, 'co-',\"Original Network\")"
      ],
      "execution_count": 27,
      "outputs": [
        {
          "output_type": "display_data",
          "data": {
            "image/png": "[encoded data removed]",
            "text/plain": [
              "<Figure size 432x288 with 1 Axes>"
            ]
          },
          "metadata": {
            "tags": [],
            "needs_background": "light"
          }
        }
      ]
    },
    {
      "cell_type": "markdown",
      "metadata": {
        "id": "4R8M30oi3J3W"
      },
      "source": [
        "### Random Network"
      ]
    },
    {
      "cell_type": "code",
      "metadata": {
        "id": "7q2P8FUvZA6o",
        "colab": {
          "base_uri": "https://localhost:8080/",
          "height": 295
        },
        "outputId": "6286744d-70bf-414a-d237-bda6ebaf7ee0"
      },
      "source": [
        "plot_degree_distribution(rewired_network, 'ko-', 'Rewired Network')"
      ],
      "execution_count": 28,
      "outputs": [
        {
          "output_type": "display_data",
          "data": {
            "image/png": "[encoded data removed]",
            "text/plain": [
              "<Figure size 432x288 with 1 Axes>"
            ]
          },
          "metadata": {
            "tags": [],
            "needs_background": "light"
          }
        }
      ]
    },
    {
      "cell_type": "markdown",
      "metadata": {
        "id": "hNtJnf4g3OsF"
      },
      "source": [
        "### Erdos Renyi Network\n"
      ]
    },
    {
      "cell_type": "code",
      "metadata": {
        "id": "lPgDnBOHbfKJ",
        "colab": {
          "base_uri": "https://localhost:8080/",
          "height": 295
        },
        "outputId": "8cb94acc-8e45-434e-dc3a-22af318d90b0"
      },
      "source": [
        "plot_degree_distribution(ER_network , 'ro-', \"Erdos Renyi network\")"
      ],
      "execution_count": 29,
      "outputs": [
        {
          "output_type": "display_data",
          "data": {
            "image/png": "[encoded data removed]",
            "text/plain": [
              "<Figure size 432x288 with 1 Axes>"
            ]
          },
          "metadata": {
            "tags": [],
            "needs_background": "light"
          }
        }
      ]
    },
    {
      "cell_type": "markdown",
      "metadata": {
        "id": "8B9mSdxkc6CP"
      },
      "source": [
        "## Degree distributions log log plot\n",
        "\n"
      ]
    },
    {
      "cell_type": "code",
      "metadata": {
        "id": "HhgYYpficrYc"
      },
      "source": [
        "def plot_log_degree_distribution(network , style , title):\n",
        "  degrees = network.degree()\n",
        "  degree_dict = dict(degrees)\n",
        "  degree_values = sorted(set(degree_dict.values()))\n",
        "  degrees_list = list(degree_dict.values())\n",
        "  degree_hist = [degrees_list.count(x) for x in degree_values]\n",
        "  plt.figure() \n",
        "  plt.grid(True)\n",
        "  plt.loglog(degree_values,degree_hist,style )\n",
        "  plt.xlabel('Degree')\n",
        "  plt.ylabel('Number of nodes')\n",
        "  plt.title(title)\n",
        "\n"
      ],
      "execution_count": 30,
      "outputs": []
    },
    {
      "cell_type": "markdown",
      "metadata": {
        "id": "71rCT-Ap3U2I"
      },
      "source": [
        "### Original Network"
      ]
    },
    {
      "cell_type": "code",
      "metadata": {
        "id": "or88X9nbdT_d",
        "colab": {
          "base_uri": "https://localhost:8080/",
          "height": 299
        },
        "outputId": "d1a83180-1f47-47e9-f975-8a5fb1026e96"
      },
      "source": [
        "plot_log_degree_distribution(original_network , 'co-', 'Original Network')"
      ],
      "execution_count": 31,
      "outputs": [
        {
          "output_type": "display_data",
          "data": {
            "image/png": "[encoded data removed]",
            "text/plain": [
              "<Figure size 432x288 with 1 Axes>"
            ]
          },
          "metadata": {
            "tags": [],
            "needs_background": "light"
          }
        }
      ]
    },
    {
      "cell_type": "markdown",
      "metadata": {
        "id": "sJNgupLs3aBc"
      },
      "source": [
        "### Random Network"
      ]
    },
    {
      "cell_type": "code",
      "metadata": {
        "id": "TtCJYeL2dfZS",
        "colab": {
          "base_uri": "https://localhost:8080/",
          "height": 299
        },
        "outputId": "f38c544f-a7b9-4f31-cbfc-1a8a35be3360"
      },
      "source": [
        "plot_log_degree_distribution(rewired_network, 'ko-', \"Rewired Network\")"
      ],
      "execution_count": 32,
      "outputs": [
        {
          "output_type": "display_data",
          "data": {
            "image/png": "[encoded data removed]",
            "text/plain": [
              "<Figure size 432x288 with 1 Axes>"
            ]
          },
          "metadata": {
            "tags": [],
            "needs_background": "light"
          }
        }
      ]
    },
    {
      "cell_type": "markdown",
      "metadata": {
        "id": "OX7CYuTq3e7u"
      },
      "source": [
        "### Erdos Renyi Network"
      ]
    },
    {
      "cell_type": "code",
      "metadata": {
        "id": "aHmhVcm_dtUK",
        "colab": {
          "base_uri": "https://localhost:8080/",
          "height": 299
        },
        "outputId": "7b2d2184-4a32-4a7f-8274-877115900419"
      },
      "source": [
        "plot_log_degree_distribution(ER_network , 'ro-', \"Erdos Renyi\")"
      ],
      "execution_count": 33,
      "outputs": [
        {
          "output_type": "display_data",
          "data": {
            "image/png": "[encoded data removed]",
            "text/plain": [
              "<Figure size 432x288 with 1 Axes>"
            ]
          },
          "metadata": {
            "tags": [],
            "needs_background": "light"
          }
        }
      ]
    },
    {
      "cell_type": "markdown",
      "metadata": {
        "id": "s9dPtaTt0LEk"
      },
      "source": [
        "## Degree distribution of all three networks "
      ]
    },
    {
      "cell_type": "code",
      "metadata": {
        "id": "TGkLgykyd0u6"
      },
      "source": [
        " def get_degree_distribution(network):\n",
        "  degrees = network.degree()\n",
        "  degree_dict = dict(degrees)\n",
        "  degree_values = sorted(set(degree_dict.values()))\n",
        "  degrees_list = list(degree_dict.values())\n",
        "  degree_hist = [degrees_list.count(x) for x in degree_values]\n",
        "  return degree_values, degree_hist"
      ],
      "execution_count": 34,
      "outputs": []
    },
    {
      "cell_type": "code",
      "metadata": {
        "id": "u_VYwvKAU_PO"
      },
      "source": [
        "ER_vals, ER_hist = get_degree_distribution(ER_network)\n",
        "rewired_vals, rewired_hist = get_degree_distribution(rewired_network)\n",
        "original_vals, original_hist = get_degree_distribution(original_network)"
      ],
      "execution_count": 35,
      "outputs": []
    },
    {
      "cell_type": "code",
      "metadata": {
        "id": "IMG3zuEoVWmf",
        "colab": {
          "base_uri": "https://localhost:8080/",
          "height": 313
        },
        "outputId": "f3cd8e02-37a4-4ee9-b570-36be2f422130"
      },
      "source": [
        "plt.figure() \n",
        "plt.grid(True)\n",
        "plt.plot(ER_vals, ER_hist, 'ro-', label = \"Erdos Renyi\")\n",
        "plt.plot(rewired_vals, rewired_hist, 'ko-', label = \"Rewired \")\n",
        "plt.plot(original_vals, original_hist, 'co-' , label = \"Original\")\n",
        "plt.xlabel('Degree')\n",
        "plt.ylabel('Number of nodes')\n",
        "plt.legend()\n",
        "plt.figure(figsize=(500,250))"
      ],
      "execution_count": 36,
      "outputs": [
        {
          "output_type": "execute_result",
          "data": {
            "text/plain": [
              "<Figure size 36000x18000 with 0 Axes>"
            ]
          },
          "metadata": {
            "tags": []
          },
          "execution_count": 36
        },
        {
          "output_type": "display_data",
          "data": {
            "image/png": "[encoded data removed]",
            "text/plain": [
              "<Figure size 432x288 with 1 Axes>"
            ]
          },
          "metadata": {
            "tags": [],
            "needs_background": "light"
          }
        },
        {
          "output_type": "display_data",
          "data": {
            "text/plain": [
              "<Figure size 36000x18000 with 0 Axes>"
            ]
          },
          "metadata": {
            "tags": []
          }
        }
      ]
    },
    {
      "cell_type": "code",
      "metadata": {
        "id": "DAI3a09RWFeM",
        "colab": {
          "base_uri": "https://localhost:8080/",
          "height": 300
        },
        "outputId": "e002b44d-72a9-4046-f3b6-1b123e0bbcac"
      },
      "source": [
        "plt.figure() \n",
        "plt.grid(True)\n",
        "plt.loglog(ER_vals, ER_hist, 'ro-', label = \"Erdos Renyi\")\n",
        "plt.loglog(rewired_vals, rewired_hist, 'ko-', label = \"Rewired\")\n",
        "plt.loglog(original_vals, original_hist, 'co-', label = \"original\")\n",
        "plt.xlabel('Degree')\n",
        "plt.ylabel('Number of nodes')\n",
        "plt.legend()"
      ],
      "execution_count": 37,
      "outputs": [
        {
          "output_type": "execute_result",
          "data": {
            "text/plain": [
              "<matplotlib.legend.Legend at 0x7f7c4167dc90>"
            ]
          },
          "metadata": {
            "tags": []
          },
          "execution_count": 37
        },
        {
          "output_type": "display_data",
          "data": {
            "image/png": "[encoded data removed]",
            "text/plain": [
              "<Figure size 432x288 with 1 Axes>"
            ]
          },
          "metadata": {
            "tags": [],
            "needs_background": "light"
          }
        }
      ]
    },
    {
      "cell_type": "markdown",
      "metadata": {
        "id": "9PWWJLq30UAL"
      },
      "source": [
        "##  Clustering cooficient Vs degree plots"
      ]
    },
    {
      "cell_type": "code",
      "metadata": {
        "id": "lE5zXI0VhZhR"
      },
      "source": [
        "def plot_clustering_vs_degree(network , dots_style, title):\n",
        "  clust_coefficients = nx.clustering(network)\n",
        "  degrees = dict(network.degree())\n",
        "  degrees_df = pd.DataFrame(list(degrees.items()),columns = \n",
        "                               ['Author','Degree']) \n",
        "  clustering_df = pd.DataFrame(list(clust_coefficients.items()),columns =\n",
        "                              ['Author','Clustering']) \n",
        "  Clustering_degree = pd.merge(left=clustering_df, right=degrees_df,\n",
        "                                how='left', left_on='Author', right_on='Author')\n",
        "  Clustering_degree.plot(x='Degree', y='Clustering', style=dots_style)\n",
        "  plt.title(title)\n",
        "  return Clustering_degree\n",
        "\n"
      ],
      "execution_count": null,
      "outputs": []
    },
    {
      "cell_type": "markdown",
      "metadata": {
        "id": "Yavvkjj63y_s"
      },
      "source": [
        "### Clusttering cooficient VS the segree of Erdos Renyi network"
      ]
    },
    {
      "cell_type": "code",
      "metadata": {
        "id": "GeXUdjQejEEx",
        "colab": {
          "base_uri": "https://localhost:8080/",
          "height": 295
        },
        "outputId": "dbc1b33e-e7d0-46ba-c4ae-e323663ef879"
      },
      "source": [
        "ER_clustering_degree = plot_clustering_vs_degree(ER_network , 'ro', \"Erdos Renyi network\")"
      ],
      "execution_count": null,
      "outputs": [
        {
          "output_type": "display_data",
          "data": {
            "image/png": "[encoded data removed]",
            "text/plain": [
              "<Figure size 432x288 with 1 Axes>"
            ]
          },
          "metadata": {
            "tags": [],
            "needs_background": "light"
          }
        }
      ]
    },
    {
      "cell_type": "markdown",
      "metadata": {
        "id": "lInlrEKV36eB"
      },
      "source": [
        "### Clustering Cofficient Vs Degree in Original Network"
      ]
    },
    {
      "cell_type": "code",
      "metadata": {
        "id": "4NJ2WrSejTLT",
        "colab": {
          "base_uri": "https://localhost:8080/",
          "height": 295
        },
        "outputId": "348175e1-3d34-41ad-f40f-e6bb7042ac6c"
      },
      "source": [
        "Original_clustering_degree = plot_clustering_vs_degree(original_network , 'co', \"original network\")"
      ],
      "execution_count": null,
      "outputs": [
        {
          "output_type": "display_data",
          "data": {
            "image/png": "[encoded data removed]",
            "text/plain": [
              "<Figure size 432x288 with 1 Axes>"
            ]
          },
          "metadata": {
            "tags": [],
            "needs_background": "light"
          }
        }
      ]
    },
    {
      "cell_type": "markdown",
      "metadata": {
        "id": "xL8LuEdZ4ER3"
      },
      "source": [
        "### CLustering Cooficient Vs Degree in randomly rewired network"
      ]
    },
    {
      "cell_type": "code",
      "metadata": {
        "id": "xcBTPkhdjk9y",
        "colab": {
          "base_uri": "https://localhost:8080/",
          "height": 295
        },
        "outputId": "2a2c2524-cd81-45fa-f281-08a5541980f5"
      },
      "source": [
        "rewired_clutering_degree = plot_clustering_vs_degree(rewired_network, 'ko', \"rewired network\")"
      ],
      "execution_count": null,
      "outputs": [
        {
          "output_type": "display_data",
          "data": {
            "image/png": "[encoded data removed]",
            "text/plain": [
              "<Figure size 432x288 with 1 Axes>"
            ]
          },
          "metadata": {
            "tags": [],
            "needs_background": "light"
          }
        }
      ]
    },
    {
      "cell_type": "markdown",
      "metadata": {
        "id": "w5ogatxl0hSr"
      },
      "source": [
        "## Clustering Cooficient analysis\n"
      ]
    },
    {
      "cell_type": "code",
      "metadata": {
        "id": "EO2o5LOUms6M"
      },
      "source": [
        "def get_average_clustering_coof(network , network_name):\n",
        "  clust_coefficients = nx.clustering(network)\n",
        "  avg_clust = sum(clust_coefficients.values()) / len(clust_coefficients)\n",
        "  print ( \" the average clustering cooficient for \" , network_name, avg_clust)\n",
        "\n"
      ],
      "execution_count": 39,
      "outputs": []
    },
    {
      "cell_type": "code",
      "metadata": {
        "id": "hMSX_bHkne6Y",
        "colab": {
          "base_uri": "https://localhost:8080/"
        },
        "outputId": "7f48195d-e191-400d-874f-3202b6f5cf21"
      },
      "source": [
        "get_average_clustering_coof(ER_network , \"Erdos Renyi Network\")"
      ],
      "execution_count": 40,
      "outputs": [
        {
          "output_type": "stream",
          "text": [
            " the average clustering cooficient for  Erdos Renyi Network 0.0005120090736529093\n"
          ],
          "name": "stdout"
        }
      ]
    },
    {
      "cell_type": "code",
      "metadata": {
        "id": "Zu4SuWDNnqEz",
        "colab": {
          "base_uri": "https://localhost:8080/"
        },
        "outputId": "1a328f1a-d396-41ca-dcfb-e5ac58531b2b"
      },
      "source": [
        "get_average_clustering_coof(original_network , \"Original network\")"
      ],
      "execution_count": 41,
      "outputs": [
        {
          "output_type": "stream",
          "text": [
            " the average clustering cooficient for  Original network 0.12254643582107418\n"
          ],
          "name": "stdout"
        }
      ]
    },
    {
      "cell_type": "code",
      "metadata": {
        "id": "BsK7l165n7iT",
        "colab": {
          "base_uri": "https://localhost:8080/"
        },
        "outputId": "af228fd7-8749-4b9d-941b-8a1350b50e16"
      },
      "source": [
        "get_average_clustering_coof(rewired_network, \"Rewired network\")"
      ],
      "execution_count": 42,
      "outputs": [
        {
          "output_type": "stream",
          "text": [
            " the average clustering cooficient for  Rewired network 0.12254643582107418\n"
          ],
          "name": "stdout"
        }
      ]
    },
    {
      "cell_type": "markdown",
      "metadata": {
        "id": "68_0Sb1WMweF"
      },
      "source": [
        "## Shortest path analysis"
      ]
    },
    {
      "cell_type": "code",
      "metadata": {
        "id": "cV_6klFg3-uA"
      },
      "source": [
        "def get_paths_dist(network ):\n",
        "  paths = dict(nx.all_pairs_shortest_path_length(network))\n",
        "  hist_1 = Counter(paths[0].values())\n",
        "  for i in range (1, len(paths)):\n",
        "    hist =  Counter(paths[i].values())\n",
        "    hist_1 = hist_1+hist\n",
        "  return dict(hist_1)\n"
      ],
      "execution_count": 43,
      "outputs": []
    },
    {
      "cell_type": "code",
      "metadata": {
        "id": "LKY1_CBnBSaF"
      },
      "source": [
        "def get_paths_dist2(network ):\n",
        "  paths = nx.all_pairs_shortest_path_length(network)\n",
        "  hist_1 = Counter()\n",
        "  for path in paths:\n",
        "    hist =  Counter(path[1].values())\n",
        "    hist_1 = hist_1+hist\n",
        "  return dict(hist_1)\n"
      ],
      "execution_count": 44,
      "outputs": []
    },
    {
      "cell_type": "code",
      "metadata": {
        "id": "B5DQqSmU7mFo"
      },
      "source": [
        "def plot_path_dist(path_hist, color , title ):\n",
        "  values = [] #in same order as traversing keys\n",
        "  keys = [] #also needed to preserve order\n",
        "  for key in path_hist.keys():\n",
        "    keys.append(key)\n",
        "    values.append(path_hist[key])\n",
        "  plt.figure() \n",
        "  plt.grid(True)\n",
        "  plt.plot(keys,values , color = color)\n",
        "  plt.xlabel('Path length' )\n",
        "  plt.ylabel('Frequency')\n",
        "  plt.title(title)"
      ],
      "execution_count": 45,
      "outputs": []
    },
    {
      "cell_type": "markdown",
      "metadata": {
        "id": "nPsS9zQ34pLB"
      },
      "source": [
        "### The distribution of the shortest path in the Erdos Renyi Social Network"
      ]
    },
    {
      "cell_type": "code",
      "metadata": {
        "id": "cjfjI38Lan1T"
      },
      "source": [
        "ER_path_dist= get_paths_dist(ER_network )"
      ],
      "execution_count": 46,
      "outputs": []
    },
    {
      "cell_type": "code",
      "metadata": {
        "id": "fIHEhoSX8436",
        "colab": {
          "base_uri": "https://localhost:8080/",
          "height": 295
        },
        "outputId": "fbfff59c-29da-47e1-bdb0-7b9806aee197"
      },
      "source": [
        "plot_path_dist(ER_path_dist, 'r' , 'Erdos Renyi Network')"
      ],
      "execution_count": 47,
      "outputs": [
        {
          "output_type": "display_data",
          "data": {
            "image/png": "[encoded data removed]",
            "text/plain": [
              "<Figure size 432x288 with 1 Axes>"
            ]
          },
          "metadata": {
            "tags": [],
            "needs_background": "light"
          }
        }
      ]
    },
    {
      "cell_type": "markdown",
      "metadata": {
        "id": "Wo-ePEQ645mN"
      },
      "source": [
        "### The distribution of the shortest path in the Original Social Network"
      ]
    },
    {
      "cell_type": "code",
      "metadata": {
        "id": "WvdkIuyD-lAL"
      },
      "source": [
        "original_hist = get_paths_dist2(original_network)"
      ],
      "execution_count": 48,
      "outputs": []
    },
    {
      "cell_type": "code",
      "metadata": {
        "id": "PqydP_pdEBOy",
        "colab": {
          "base_uri": "https://localhost:8080/",
          "height": 295
        },
        "outputId": "87bbb95a-44fc-4a77-fa17-3bfb7c119fe9"
      },
      "source": [
        "plot_path_dist(original_hist, 'c', \"Original Network\")"
      ],
      "execution_count": 49,
      "outputs": [
        {
          "output_type": "display_data",
          "data": {
            "image/png": "[encoded data removed]",
            "text/plain": [
              "<Figure size 432x288 with 1 Axes>"
            ]
          },
          "metadata": {
            "tags": [],
            "needs_background": "light"
          }
        }
      ]
    },
    {
      "cell_type": "markdown",
      "metadata": {
        "id": "URnSy_iW5BEJ"
      },
      "source": [
        "### The distribution of the shortest path in the randomly rewired Social Network"
      ]
    },
    {
      "cell_type": "code",
      "metadata": {
        "id": "rdKUt7iZKfUp",
        "colab": {
          "base_uri": "https://localhost:8080/",
          "height": 295
        },
        "outputId": "c6413ec1-09d2-4924-c2c2-5425c17b687a"
      },
      "source": [
        "rewired_hist = get_paths_dist2(rewired_network)\n",
        "plot_path_dist(rewired_hist, 'k' , 'Rewired Network')"
      ],
      "execution_count": 50,
      "outputs": [
        {
          "output_type": "display_data",
          "data": {
            "image/png": "[encoded data removed]",
            "text/plain": [
              "<Figure size 432x288 with 1 Axes>"
            ]
          },
          "metadata": {
            "tags": [],
            "needs_background": "light"
          }
        }
      ]
    },
    {
      "cell_type": "markdown",
      "metadata": {
        "id": "dDWyPjeCOxFW"
      },
      "source": [
        "## Connected components analysis"
      ]
    },
    {
      "cell_type": "code",
      "metadata": {
        "id": "2Mj9e9vSSmXa"
      },
      "source": [
        "def plot_connected_dist(network, color , title):\n",
        "  connected_hist =  dict(Counter([len(c) for c in sorted(nx.connected_components(network), key=len, reverse=False)]))\n",
        "  values = [] #in same order as traversing keys\n",
        "  keys = [] #also needed to preserve order\n",
        "  for key in connected_hist.keys():\n",
        "    keys.append(key)\n",
        "    values.append(connected_hist[key])\n",
        "  print(keys)\n",
        "  print(values)\n",
        "  plt.figure() \n",
        "  plt.grid(True)\n",
        "  plt.loglog(keys,values , color = color)\n",
        "  plt.xlabel('Connected Component sizes' )\n",
        "  plt.ylabel('Frequency')\n",
        "  plt.title(title)\n",
        "\n"
      ],
      "execution_count": null,
      "outputs": []
    },
    {
      "cell_type": "markdown",
      "metadata": {
        "id": "WKoXcLn-5Mc0"
      },
      "source": [
        "### The size of connected components in the Erdos Renyi Social Network"
      ]
    },
    {
      "cell_type": "code",
      "metadata": {
        "id": "KvVUele2TOWS",
        "colab": {
          "base_uri": "https://localhost:8080/",
          "height": 333
        },
        "outputId": "09375bec-b1c1-447d-d17b-a88ecead87f2"
      },
      "source": [
        "plot_connected_dist(ER_network, 'r' , 'Erdos Renyi Network')"
      ],
      "execution_count": null,
      "outputs": [
        {
          "output_type": "stream",
          "text": [
            "[1, 2, 5199]\n",
            "[185, 9, 1]\n"
          ],
          "name": "stdout"
        },
        {
          "output_type": "display_data",
          "data": {
            "image/png": "[encoded data removed]",
            "text/plain": [
              "<Figure size 432x288 with 1 Axes>"
            ]
          },
          "metadata": {
            "tags": [],
            "needs_background": "light"
          }
        }
      ]
    },
    {
      "cell_type": "markdown",
      "metadata": {
        "id": "YMsJXpnG5T5x"
      },
      "source": [
        "### The size of connected components in the  Original Social Network"
      ]
    },
    {
      "cell_type": "code",
      "metadata": {
        "id": "s6tgo3v9TSzK",
        "colab": {
          "base_uri": "https://localhost:8080/",
          "height": 333
        },
        "outputId": "be53dd5e-e62a-4e27-99a8-5802a9a37c88"
      },
      "source": [
        "plot_connected_dist(original_network, 'c' , \"Original Network\")"
      ],
      "execution_count": null,
      "outputs": [
        {
          "output_type": "stream",
          "text": [
            "[2, 3, 4, 5, 6, 7, 8, 11, 4853]\n",
            "[138, 31, 22, 8, 3, 1, 2, 1, 1]\n"
          ],
          "name": "stdout"
        },
        {
          "output_type": "display_data",
          "data": {
            "image/png": "[encoded data removed]",
            "text/plain": [
              "<Figure size 432x288 with 1 Axes>"
            ]
          },
          "metadata": {
            "tags": [],
            "needs_background": "light"
          }
        }
      ]
    },
    {
      "cell_type": "markdown",
      "metadata": {
        "id": "LFtRvWP95ZPD"
      },
      "source": [
        "### The size of connected components in the randomly rewired social Network"
      ]
    },
    {
      "cell_type": "code",
      "metadata": {
        "id": "pDQaSeY9UjtO",
        "colab": {
          "base_uri": "https://localhost:8080/",
          "height": 333
        },
        "outputId": "65cdca67-717b-4903-d8be-3f5729aa585a"
      },
      "source": [
        "plot_connected_dist(rewired_network, 'k' , \"rewired Network\")"
      ],
      "execution_count": null,
      "outputs": [
        {
          "output_type": "stream",
          "text": [
            "[2, 3, 4, 5, 6, 7, 8, 11, 4853]\n",
            "[138, 31, 22, 8, 3, 1, 2, 1, 1]\n"
          ],
          "name": "stdout"
        },
        {
          "output_type": "display_data",
          "data": {
            "image/png": "[encoded data removed]",
            "text/plain": [
              "<Figure size 432x288 with 1 Axes>"
            ]
          },
          "metadata": {
            "tags": [],
            "needs_background": "light"
          }
        }
      ]
    },
    {
      "cell_type": "markdown",
      "metadata": {
        "id": "LTXDw4SflWG9"
      },
      "source": [
        "## Betweenness Centrality Analysis "
      ]
    },
    {
      "cell_type": "code",
      "metadata": {
        "id": "y_3hV4YV9Sgk"
      },
      "source": [
        "def get_betweenness_dist(network, param):\n",
        "  betweenness_dict = nx.betweenness_centrality(ER_network, k=None, normalized =True)\n",
        "  betweenness_values = list(betweenness_dict.values())\n",
        "  ranges = np.arange(0, 1 , 0.001)\n",
        "  betweenness_dist_dict = {}\n",
        "  for i in range (param):\n",
        "    betweenness_dist_dict[ranges[i]]=sum(map(lambda x : x>ranges[i] and x <= ranges[i+1], betweenness_values))\n",
        "  return betweenness_dist_dict"
      ],
      "execution_count": null,
      "outputs": []
    },
    {
      "cell_type": "code",
      "metadata": {
        "id": "Kx_S8Yrx9do_"
      },
      "source": [
        "ER_betweenness_dist = get_betweenness_dist(ER_network,15)"
      ],
      "execution_count": null,
      "outputs": []
    },
    {
      "cell_type": "code",
      "metadata": {
        "id": "5rMQM0xUBIPI"
      },
      "source": [
        "def plot_betweenness_dist(betweenness_hist, color , title):\n",
        "  values = [] #in same order as traversing keys\n",
        "  keys = [] #also needed to preserve order\n",
        "  for key in betweenness_hist.keys():\n",
        "    keys.append(key)\n",
        "    values.append(betweenness_hist[key])\n",
        "  print(len(keys))\n",
        "  print(len(values))\n",
        "  plt.figure() \n",
        "  plt.hist(keys,keys, weights = values , color = color)\n",
        "  plt.xlabel('Betweenness values' )\n",
        "  plt.ylabel('Frequency')\n",
        "  plt.title(title)\n",
        "\n"
      ],
      "execution_count": null,
      "outputs": []
    },
    {
      "cell_type": "markdown",
      "metadata": {
        "id": "ErNR5s4Z5kab"
      },
      "source": [
        "### The Betweenness Cebtrality of the Erdos Renyi Social Network"
      ]
    },
    {
      "cell_type": "code",
      "metadata": {
        "id": "tBRU0k4fBl5g",
        "colab": {
          "base_uri": "https://localhost:8080/",
          "height": 330
        },
        "outputId": "6e227d1c-d61f-4877-f8b8-a8b8f01a7d69"
      },
      "source": [
        "plot_betweenness_dist(ER_betweenness_dist,'r', 'Erdos Renyi')"
      ],
      "execution_count": null,
      "outputs": [
        {
          "output_type": "stream",
          "text": [
            "15\n",
            "15\n"
          ],
          "name": "stdout"
        },
        {
          "output_type": "display_data",
          "data": {
            "image/png": "[encoded data removed]",
            "text/plain": [
              "<Figure size 432x288 with 1 Axes>"
            ]
          },
          "metadata": {
            "tags": [],
            "needs_background": "light"
          }
        }
      ]
    },
    {
      "cell_type": "markdown",
      "metadata": {
        "id": "2ihPd0_R5u65"
      },
      "source": [
        "### The Betweenness Cebtrality of the Original  Social Network"
      ]
    },
    {
      "cell_type": "code",
      "metadata": {
        "id": "HRaqmB2hBrT_"
      },
      "source": [
        "original_betweenness_dist = get_betweenness_dist(original_network,15)"
      ],
      "execution_count": null,
      "outputs": []
    },
    {
      "cell_type": "code",
      "metadata": {
        "id": "JNeeq6jNGecY",
        "colab": {
          "base_uri": "https://localhost:8080/",
          "height": 330
        },
        "outputId": "4a83c6ad-e95d-4cf9-bc30-1a56ed939160"
      },
      "source": [
        "plot_betweenness_dist(original_betweenness_dist,'c', 'Original Network')"
      ],
      "execution_count": null,
      "outputs": [
        {
          "output_type": "stream",
          "text": [
            "15\n",
            "15\n"
          ],
          "name": "stdout"
        },
        {
          "output_type": "display_data",
          "data": {
            "image/png": "[encoded data removed]",
            "text/plain": [
              "<Figure size 432x288 with 1 Axes>"
            ]
          },
          "metadata": {
            "tags": [],
            "needs_background": "light"
          }
        }
      ]
    },
    {
      "cell_type": "markdown",
      "metadata": {
        "id": "dXdKrO0V50YE"
      },
      "source": [
        "### The Betweenness Cebtrality of the Rewired Social Network"
      ]
    },
    {
      "cell_type": "code",
      "metadata": {
        "id": "4p5Sl4wPHibp"
      },
      "source": [
        "rewired_betweenness_dist = get_betweenness_dist(rewired_network,15)"
      ],
      "execution_count": null,
      "outputs": []
    },
    {
      "cell_type": "code",
      "metadata": {
        "id": "iJxaYQOxHvO5",
        "colab": {
          "base_uri": "https://localhost:8080/",
          "height": 330
        },
        "outputId": "cab3f817-3d9d-4061-d66a-0b1aa51d98e0"
      },
      "source": [
        "plot_betweenness_dist(rewired_betweenness_dist , 'k', 'rewired_network')"
      ],
      "execution_count": null,
      "outputs": [
        {
          "output_type": "stream",
          "text": [
            "15\n",
            "15\n"
          ],
          "name": "stdout"
        },
        {
          "output_type": "display_data",
          "data": {
            "image/png": "[encoded data removed]",
            "text/plain": [
              "<Figure size 432x288 with 1 Axes>"
            ]
          },
          "metadata": {
            "tags": [],
            "needs_background": "light"
          }
        }
      ]
    },
    {
      "cell_type": "markdown",
      "metadata": {
        "id": "HSlt47-DN6cc"
      },
      "source": [
        "# Community detetction in Networks"
      ]
    },
    {
      "cell_type": "markdown",
      "metadata": {
        "id": "ogKfsrh0OCtF"
      },
      "source": [
        "## Gervan Neumen Algorithm"
      ]
    },
    {
      "cell_type": "code",
      "metadata": {
        "id": "5XxApt-MEO_Y"
      },
      "source": [
        "rewired_network = nx.from_pandas_edgelist(rewired_weighted_graph, 'Author_1', 'Author_2', [\"size\"])\n",
        "ER_network= nx.erdos_renyi_graph(5402, 0.00065)\n",
        "original_network = nx.from_pandas_edgelist(weighted_graph, 'Author_1', 'Author_2', [\"size\"])\n"
      ],
      "execution_count": 51,
      "outputs": []
    },
    {
      "cell_type": "code",
      "metadata": {
        "id": "lYBHZrqqRfIi"
      },
      "source": [
        "def most_central_edge(G):\n",
        "    centrality = nx.edge_betweenness_centrality(G)\n",
        "    sorted_betweenness = sorted(centrality.items(), key=lambda s: s[1])\n",
        "    return sorted_betweenness[0]\n"
      ],
      "execution_count": 52,
      "outputs": []
    },
    {
      "cell_type": "code",
      "metadata": {
        "id": "X_-Rq_b1l2cQ"
      },
      "source": [
        "def gervan_neumen_results(network, itr):\n",
        "  modularity_values=[]\n",
        "  for i in range (itr):\n",
        "   print (\"iteration\", i)\n",
        "   curr_center = most_central_edge(network)\n",
        "   network.remove_edge(*curr_center[0])\n",
        "   part = com.best_partition(network)\n",
        "   modularity_values.append( com.modularity(part,network))\n",
        "  return part,modularity_values"
      ],
      "execution_count": 53,
      "outputs": []
    },
    {
      "cell_type": "code",
      "metadata": {
        "id": "3srXdROBnKY2",
        "colab": {
          "base_uri": "https://localhost:8080/"
        },
        "outputId": "5e6869d8-6732-4622-976c-fb12f1da3ada"
      },
      "source": [
        "ER_partition , ER_results= gervan_neumen_results(ER_network ,2 )"
      ],
      "execution_count": 54,
      "outputs": [
        {
          "output_type": "stream",
          "text": [
            "iteration 0\n",
            "iteration 1\n"
          ],
          "name": "stdout"
        }
      ]
    },
    {
      "cell_type": "code",
      "metadata": {
        "colab": {
          "base_uri": "https://localhost:8080/"
        },
        "id": "ZlU1ZSWP-NOu",
        "outputId": "d08f0529-bcef-4fc8-9814-ec7eaf0ad927"
      },
      "source": [
        "print(\"The average Modularity value for Erdos Renyi Social network\" ,np.mean(ER_results))"
      ],
      "execution_count": 67,
      "outputs": [
        {
          "output_type": "stream",
          "text": [
            "The average Modularity value for Erdos Renyi Social network 0.5797629544720837\n"
          ],
          "name": "stdout"
        }
      ]
    },
    {
      "cell_type": "code",
      "metadata": {
        "id": "9PIy4XuH4A8p",
        "colab": {
          "base_uri": "https://localhost:8080/"
        },
        "outputId": "6878d322-d413-4565-ee41-0d3ea939973a"
      },
      "source": [
        "Original_partition, original_results= gervan_neumen_results(original_network,2 )"
      ],
      "execution_count": 55,
      "outputs": [
        {
          "output_type": "stream",
          "text": [
            "iteration 0\n",
            "iteration 1\n"
          ],
          "name": "stdout"
        }
      ]
    },
    {
      "cell_type": "code",
      "metadata": {
        "colab": {
          "base_uri": "https://localhost:8080/"
        },
        "id": "poa3Abz3-4d6",
        "outputId": "7007879f-2890-4409-b770-1a4bbe6eee19"
      },
      "source": [
        "print(\"The average Modularity value for the original Social network\" ,np.mean(original_results))"
      ],
      "execution_count": 68,
      "outputs": [
        {
          "output_type": "stream",
          "text": [
            "The average Modularity value for the original Social network 0.7237304710580956\n"
          ],
          "name": "stdout"
        }
      ]
    },
    {
      "cell_type": "code",
      "metadata": {
        "id": "-JrnG98d4Quu",
        "colab": {
          "base_uri": "https://localhost:8080/"
        },
        "outputId": "f851aa21-bb2f-442d-eb09-cff1b4907e96"
      },
      "source": [
        "rewired_partition , rewired_results= gervan_neumen_results(rewired_network, 2)"
      ],
      "execution_count": 70,
      "outputs": [
        {
          "output_type": "stream",
          "text": [
            "iteration 0\n",
            "iteration 1\n"
          ],
          "name": "stdout"
        }
      ]
    },
    {
      "cell_type": "code",
      "metadata": {
        "colab": {
          "base_uri": "https://localhost:8080/"
        },
        "id": "fYH8NjEa_EVP",
        "outputId": "128bd531-0145-4c5f-be72-4484e4e2f59b"
      },
      "source": [
        "print(\"The average Modularity value for the random Social network\" ,np.mean(rewired_results))"
      ],
      "execution_count": 71,
      "outputs": [
        {
          "output_type": "stream",
          "text": [
            "The average Modularity value for the random Social network 0.7223539970665496\n"
          ],
          "name": "stdout"
        }
      ]
    }
  ]
}